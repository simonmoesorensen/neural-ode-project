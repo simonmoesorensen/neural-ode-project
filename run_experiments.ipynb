{
 "cells": [
  {
   "cell_type": "markdown",
   "metadata": {
    "collapsed": true,
    "pycharm": {
     "name": "#%% md\n"
    }
   },
   "source": [
    "# Introduction\n",
    "\n",
    "This project was developed mostly from CLI and not through use of jupyter notebooks due to constraints in connections to remote PCs over ssh.\n",
    "\n",
    "However, as a requirement for the project, a jupyter notebook is provided which makes it easy to run and reproduce most of the results where feasible (meaning not retraining models)."
   ]
  },
  {
   "cell_type": "code",
   "execution_count": null,
   "outputs": [],
   "source": [
    "from experiment.run_experiments import run\n",
    "\n",
    "run(plot=True)"
   ],
   "metadata": {
    "collapsed": false,
    "pycharm": {
     "name": "#%%\n"
    }
   }
  },
  {
   "cell_type": "markdown",
   "source": [
    "If your run was successful, you should be able to view the figures in `experiment/RMSE_output/png`\n",
    "\n",
    "If you get `TypeError: not all arguments converted during string formatting`\n",
    "\n",
    "This is most likely due to running on a **different** operating system than that of a UNIX based one. This error can be **ignored**"
   ],
   "metadata": {
    "collapsed": false,
    "pycharm": {
     "name": "#%% md\n"
    }
   }
  }
 ],
 "metadata": {
  "kernelspec": {
   "display_name": "Python 3",
   "language": "python",
   "name": "python3"
  },
  "language_info": {
   "codemirror_mode": {
    "name": "ipython",
    "version": 2
   },
   "file_extension": ".py",
   "mimetype": "text/x-python",
   "name": "python",
   "nbconvert_exporter": "python",
   "pygments_lexer": "ipython2",
   "version": "2.7.6"
  }
 },
 "nbformat": 4,
 "nbformat_minor": 0
}